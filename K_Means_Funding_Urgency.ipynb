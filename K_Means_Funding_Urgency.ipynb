{
  "nbformat": 4,
  "nbformat_minor": 0,
  "metadata": {
    "colab": {
      "provenance": []
    },
    "kernelspec": {
      "name": "python3",
      "display_name": "Python 3"
    },
    "language_info": {
      "name": "python"
    }
  },
  "cells": [
    {
      "cell_type": "code",
      "execution_count": null,
      "metadata": {
        "id": "j-Klko5Vr8Wf"
      },
      "outputs": [],
      "source": [
        "import pandas as pd\n",
        "import numpy as np\n",
        "\n",
        "from numpy.random import uniform\n",
        "\n",
        "from mpl_toolkits.mplot3d import Axes3D\n",
        "import seaborn as sns\n",
        "import matplotlib.pyplot as plt\n",
        "\n",
        "from sklearn.preprocessing import MinMaxScaler\n",
        "\n",
        "import random"
      ]
    },
    {
      "cell_type": "markdown",
      "source": [
        "# Data Initialization and Summary"
      ],
      "metadata": {
        "id": "4wFdx1PfsxIJ"
      }
    },
    {
      "cell_type": "code",
      "source": [
        "df = pd.read_csv(\"https://raw.githubusercontent.com/mrandika/CII3C3_ML_Unsupervised-Learning/main/country-dataset.csv\")"
      ],
      "metadata": {
        "id": "vXMG8BhZsENO"
      },
      "execution_count": null,
      "outputs": []
    },
    {
      "cell_type": "code",
      "source": [
        "# Dataset Info\n",
        "df.info()"
      ],
      "metadata": {
        "colab": {
          "base_uri": "https://localhost:8080/"
        },
        "id": "GjZnqzpasMsJ",
        "outputId": "84196afd-e7b8-47ba-c751-6cc82ce5f10c"
      },
      "execution_count": null,
      "outputs": [
        {
          "output_type": "stream",
          "name": "stdout",
          "text": [
            "<class 'pandas.core.frame.DataFrame'>\n",
            "RangeIndex: 167 entries, 0 to 166\n",
            "Data columns (total 10 columns):\n",
            " #   Column      Non-Null Count  Dtype  \n",
            "---  ------      --------------  -----  \n",
            " 0   country     167 non-null    object \n",
            " 1   child_mort  167 non-null    float64\n",
            " 2   exports     167 non-null    float64\n",
            " 3   health      167 non-null    float64\n",
            " 4   imports     167 non-null    float64\n",
            " 5   income      167 non-null    int64  \n",
            " 6   inflation   167 non-null    float64\n",
            " 7   life_expec  167 non-null    float64\n",
            " 8   total_fer   167 non-null    float64\n",
            " 9   gdpp        167 non-null    int64  \n",
            "dtypes: float64(7), int64(2), object(1)\n",
            "memory usage: 13.2+ KB\n"
          ]
        }
      ]
    },
    {
      "cell_type": "code",
      "source": [
        "# Get dataset sample\n",
        "df.head()"
      ],
      "metadata": {
        "colab": {
          "base_uri": "https://localhost:8080/",
          "height": 204
        },
        "id": "ZqO-Atl2sQj8",
        "outputId": "5ae50a5c-8551-46f7-ed6c-0e63a6d1718d"
      },
      "execution_count": null,
      "outputs": [
        {
          "output_type": "execute_result",
          "data": {
            "text/plain": [
              "               country  child_mort  exports  health  imports  income  \\\n",
              "0          Afghanistan        90.2     10.0    7.58     44.9    1610   \n",
              "1              Albania        16.6     28.0    6.55     48.6    9930   \n",
              "2              Algeria        27.3     38.4    4.17     31.4   12900   \n",
              "3               Angola       119.0     62.3    2.85     42.9    5900   \n",
              "4  Antigua and Barbuda        10.3     45.5    6.03     58.9   19100   \n",
              "\n",
              "   inflation  life_expec  total_fer   gdpp  \n",
              "0       9.44        56.2       5.82    553  \n",
              "1       4.49        76.3       1.65   4090  \n",
              "2      16.10        76.5       2.89   4460  \n",
              "3      22.40        60.1       6.16   3530  \n",
              "4       1.44        76.8       2.13  12200  "
            ],
            "text/html": [
              "\n",
              "  <div id=\"df-257d7055-45bb-4b36-82d2-24daa94c6dbd\">\n",
              "    <div class=\"colab-df-container\">\n",
              "      <div>\n",
              "<style scoped>\n",
              "    .dataframe tbody tr th:only-of-type {\n",
              "        vertical-align: middle;\n",
              "    }\n",
              "\n",
              "    .dataframe tbody tr th {\n",
              "        vertical-align: top;\n",
              "    }\n",
              "\n",
              "    .dataframe thead th {\n",
              "        text-align: right;\n",
              "    }\n",
              "</style>\n",
              "<table border=\"1\" class=\"dataframe\">\n",
              "  <thead>\n",
              "    <tr style=\"text-align: right;\">\n",
              "      <th></th>\n",
              "      <th>country</th>\n",
              "      <th>child_mort</th>\n",
              "      <th>exports</th>\n",
              "      <th>health</th>\n",
              "      <th>imports</th>\n",
              "      <th>income</th>\n",
              "      <th>inflation</th>\n",
              "      <th>life_expec</th>\n",
              "      <th>total_fer</th>\n",
              "      <th>gdpp</th>\n",
              "    </tr>\n",
              "  </thead>\n",
              "  <tbody>\n",
              "    <tr>\n",
              "      <th>0</th>\n",
              "      <td>Afghanistan</td>\n",
              "      <td>90.2</td>\n",
              "      <td>10.0</td>\n",
              "      <td>7.58</td>\n",
              "      <td>44.9</td>\n",
              "      <td>1610</td>\n",
              "      <td>9.44</td>\n",
              "      <td>56.2</td>\n",
              "      <td>5.82</td>\n",
              "      <td>553</td>\n",
              "    </tr>\n",
              "    <tr>\n",
              "      <th>1</th>\n",
              "      <td>Albania</td>\n",
              "      <td>16.6</td>\n",
              "      <td>28.0</td>\n",
              "      <td>6.55</td>\n",
              "      <td>48.6</td>\n",
              "      <td>9930</td>\n",
              "      <td>4.49</td>\n",
              "      <td>76.3</td>\n",
              "      <td>1.65</td>\n",
              "      <td>4090</td>\n",
              "    </tr>\n",
              "    <tr>\n",
              "      <th>2</th>\n",
              "      <td>Algeria</td>\n",
              "      <td>27.3</td>\n",
              "      <td>38.4</td>\n",
              "      <td>4.17</td>\n",
              "      <td>31.4</td>\n",
              "      <td>12900</td>\n",
              "      <td>16.10</td>\n",
              "      <td>76.5</td>\n",
              "      <td>2.89</td>\n",
              "      <td>4460</td>\n",
              "    </tr>\n",
              "    <tr>\n",
              "      <th>3</th>\n",
              "      <td>Angola</td>\n",
              "      <td>119.0</td>\n",
              "      <td>62.3</td>\n",
              "      <td>2.85</td>\n",
              "      <td>42.9</td>\n",
              "      <td>5900</td>\n",
              "      <td>22.40</td>\n",
              "      <td>60.1</td>\n",
              "      <td>6.16</td>\n",
              "      <td>3530</td>\n",
              "    </tr>\n",
              "    <tr>\n",
              "      <th>4</th>\n",
              "      <td>Antigua and Barbuda</td>\n",
              "      <td>10.3</td>\n",
              "      <td>45.5</td>\n",
              "      <td>6.03</td>\n",
              "      <td>58.9</td>\n",
              "      <td>19100</td>\n",
              "      <td>1.44</td>\n",
              "      <td>76.8</td>\n",
              "      <td>2.13</td>\n",
              "      <td>12200</td>\n",
              "    </tr>\n",
              "  </tbody>\n",
              "</table>\n",
              "</div>\n",
              "      <button class=\"colab-df-convert\" onclick=\"convertToInteractive('df-257d7055-45bb-4b36-82d2-24daa94c6dbd')\"\n",
              "              title=\"Convert this dataframe to an interactive table.\"\n",
              "              style=\"display:none;\">\n",
              "        \n",
              "  <svg xmlns=\"http://www.w3.org/2000/svg\" height=\"24px\"viewBox=\"0 0 24 24\"\n",
              "       width=\"24px\">\n",
              "    <path d=\"M0 0h24v24H0V0z\" fill=\"none\"/>\n",
              "    <path d=\"M18.56 5.44l.94 2.06.94-2.06 2.06-.94-2.06-.94-.94-2.06-.94 2.06-2.06.94zm-11 1L8.5 8.5l.94-2.06 2.06-.94-2.06-.94L8.5 2.5l-.94 2.06-2.06.94zm10 10l.94 2.06.94-2.06 2.06-.94-2.06-.94-.94-2.06-.94 2.06-2.06.94z\"/><path d=\"M17.41 7.96l-1.37-1.37c-.4-.4-.92-.59-1.43-.59-.52 0-1.04.2-1.43.59L10.3 9.45l-7.72 7.72c-.78.78-.78 2.05 0 2.83L4 21.41c.39.39.9.59 1.41.59.51 0 1.02-.2 1.41-.59l7.78-7.78 2.81-2.81c.8-.78.8-2.07 0-2.86zM5.41 20L4 18.59l7.72-7.72 1.47 1.35L5.41 20z\"/>\n",
              "  </svg>\n",
              "      </button>\n",
              "      \n",
              "  <style>\n",
              "    .colab-df-container {\n",
              "      display:flex;\n",
              "      flex-wrap:wrap;\n",
              "      gap: 12px;\n",
              "    }\n",
              "\n",
              "    .colab-df-convert {\n",
              "      background-color: #E8F0FE;\n",
              "      border: none;\n",
              "      border-radius: 50%;\n",
              "      cursor: pointer;\n",
              "      display: none;\n",
              "      fill: #1967D2;\n",
              "      height: 32px;\n",
              "      padding: 0 0 0 0;\n",
              "      width: 32px;\n",
              "    }\n",
              "\n",
              "    .colab-df-convert:hover {\n",
              "      background-color: #E2EBFA;\n",
              "      box-shadow: 0px 1px 2px rgba(60, 64, 67, 0.3), 0px 1px 3px 1px rgba(60, 64, 67, 0.15);\n",
              "      fill: #174EA6;\n",
              "    }\n",
              "\n",
              "    [theme=dark] .colab-df-convert {\n",
              "      background-color: #3B4455;\n",
              "      fill: #D2E3FC;\n",
              "    }\n",
              "\n",
              "    [theme=dark] .colab-df-convert:hover {\n",
              "      background-color: #434B5C;\n",
              "      box-shadow: 0px 1px 3px 1px rgba(0, 0, 0, 0.15);\n",
              "      filter: drop-shadow(0px 1px 2px rgba(0, 0, 0, 0.3));\n",
              "      fill: #FFFFFF;\n",
              "    }\n",
              "  </style>\n",
              "\n",
              "      <script>\n",
              "        const buttonEl =\n",
              "          document.querySelector('#df-257d7055-45bb-4b36-82d2-24daa94c6dbd button.colab-df-convert');\n",
              "        buttonEl.style.display =\n",
              "          google.colab.kernel.accessAllowed ? 'block' : 'none';\n",
              "\n",
              "        async function convertToInteractive(key) {\n",
              "          const element = document.querySelector('#df-257d7055-45bb-4b36-82d2-24daa94c6dbd');\n",
              "          const dataTable =\n",
              "            await google.colab.kernel.invokeFunction('convertToInteractive',\n",
              "                                                     [key], {});\n",
              "          if (!dataTable) return;\n",
              "\n",
              "          const docLinkHtml = 'Like what you see? Visit the ' +\n",
              "            '<a target=\"_blank\" href=https://colab.research.google.com/notebooks/data_table.ipynb>data table notebook</a>'\n",
              "            + ' to learn more about interactive tables.';\n",
              "          element.innerHTML = '';\n",
              "          dataTable['output_type'] = 'display_data';\n",
              "          await google.colab.output.renderOutput(dataTable, element);\n",
              "          const docLink = document.createElement('div');\n",
              "          docLink.innerHTML = docLinkHtml;\n",
              "          element.appendChild(docLink);\n",
              "        }\n",
              "      </script>\n",
              "    </div>\n",
              "  </div>\n",
              "  "
            ]
          },
          "metadata": {},
          "execution_count": 37
        }
      ]
    },
    {
      "cell_type": "code",
      "source": [
        "# Check if dataset contain any null\n",
        "df.isnull().sum()"
      ],
      "metadata": {
        "colab": {
          "base_uri": "https://localhost:8080/"
        },
        "id": "wPkpTp0WsWii",
        "outputId": "7424fb4c-9c39-4a0e-e694-3bc492d7cf90"
      },
      "execution_count": null,
      "outputs": [
        {
          "output_type": "execute_result",
          "data": {
            "text/plain": [
              "country       0\n",
              "child_mort    0\n",
              "exports       0\n",
              "health        0\n",
              "imports       0\n",
              "income        0\n",
              "inflation     0\n",
              "life_expec    0\n",
              "total_fer     0\n",
              "gdpp          0\n",
              "dtype: int64"
            ]
          },
          "metadata": {},
          "execution_count": 38
        }
      ]
    },
    {
      "cell_type": "code",
      "source": [
        "# Check if data is unique\n",
        "len(df['country'].unique()) == len(df)"
      ],
      "metadata": {
        "colab": {
          "base_uri": "https://localhost:8080/"
        },
        "id": "DR207RHascg0",
        "outputId": "603358a2-7e60-4cd2-f889-c0b341054029"
      },
      "execution_count": null,
      "outputs": [
        {
          "output_type": "execute_result",
          "data": {
            "text/plain": [
              "True"
            ]
          },
          "metadata": {},
          "execution_count": 39
        }
      ]
    },
    {
      "cell_type": "code",
      "source": [
        "# Describe the dataset\n",
        "df.describe()"
      ],
      "metadata": {
        "colab": {
          "base_uri": "https://localhost:8080/",
          "height": 297
        },
        "id": "BrWNSiecskI-",
        "outputId": "eb898b4e-e52e-4713-ae1b-7a6bbd6bdbfb"
      },
      "execution_count": null,
      "outputs": [
        {
          "output_type": "execute_result",
          "data": {
            "text/plain": [
              "       child_mort     exports      health     imports         income  \\\n",
              "count  167.000000  167.000000  167.000000  167.000000     167.000000   \n",
              "mean    38.270060   41.108976    6.815689   46.890215   17144.688623   \n",
              "std     40.328931   27.412010    2.746837   24.209589   19278.067698   \n",
              "min      2.600000    0.109000    1.810000    0.065900     609.000000   \n",
              "25%      8.250000   23.800000    4.920000   30.200000    3355.000000   \n",
              "50%     19.300000   35.000000    6.320000   43.300000    9960.000000   \n",
              "75%     62.100000   51.350000    8.600000   58.750000   22800.000000   \n",
              "max    208.000000  200.000000   17.900000  174.000000  125000.000000   \n",
              "\n",
              "        inflation  life_expec   total_fer           gdpp  \n",
              "count  167.000000  167.000000  167.000000     167.000000  \n",
              "mean     7.781832   70.555689    2.947964   12964.155689  \n",
              "std     10.570704    8.893172    1.513848   18328.704809  \n",
              "min     -4.210000   32.100000    1.150000     231.000000  \n",
              "25%      1.810000   65.300000    1.795000    1330.000000  \n",
              "50%      5.390000   73.100000    2.410000    4660.000000  \n",
              "75%     10.750000   76.800000    3.880000   14050.000000  \n",
              "max    104.000000   82.800000    7.490000  105000.000000  "
            ],
            "text/html": [
              "\n",
              "  <div id=\"df-88ece78f-398d-4fbd-bce3-8698c1ead7b9\">\n",
              "    <div class=\"colab-df-container\">\n",
              "      <div>\n",
              "<style scoped>\n",
              "    .dataframe tbody tr th:only-of-type {\n",
              "        vertical-align: middle;\n",
              "    }\n",
              "\n",
              "    .dataframe tbody tr th {\n",
              "        vertical-align: top;\n",
              "    }\n",
              "\n",
              "    .dataframe thead th {\n",
              "        text-align: right;\n",
              "    }\n",
              "</style>\n",
              "<table border=\"1\" class=\"dataframe\">\n",
              "  <thead>\n",
              "    <tr style=\"text-align: right;\">\n",
              "      <th></th>\n",
              "      <th>child_mort</th>\n",
              "      <th>exports</th>\n",
              "      <th>health</th>\n",
              "      <th>imports</th>\n",
              "      <th>income</th>\n",
              "      <th>inflation</th>\n",
              "      <th>life_expec</th>\n",
              "      <th>total_fer</th>\n",
              "      <th>gdpp</th>\n",
              "    </tr>\n",
              "  </thead>\n",
              "  <tbody>\n",
              "    <tr>\n",
              "      <th>count</th>\n",
              "      <td>167.000000</td>\n",
              "      <td>167.000000</td>\n",
              "      <td>167.000000</td>\n",
              "      <td>167.000000</td>\n",
              "      <td>167.000000</td>\n",
              "      <td>167.000000</td>\n",
              "      <td>167.000000</td>\n",
              "      <td>167.000000</td>\n",
              "      <td>167.000000</td>\n",
              "    </tr>\n",
              "    <tr>\n",
              "      <th>mean</th>\n",
              "      <td>38.270060</td>\n",
              "      <td>41.108976</td>\n",
              "      <td>6.815689</td>\n",
              "      <td>46.890215</td>\n",
              "      <td>17144.688623</td>\n",
              "      <td>7.781832</td>\n",
              "      <td>70.555689</td>\n",
              "      <td>2.947964</td>\n",
              "      <td>12964.155689</td>\n",
              "    </tr>\n",
              "    <tr>\n",
              "      <th>std</th>\n",
              "      <td>40.328931</td>\n",
              "      <td>27.412010</td>\n",
              "      <td>2.746837</td>\n",
              "      <td>24.209589</td>\n",
              "      <td>19278.067698</td>\n",
              "      <td>10.570704</td>\n",
              "      <td>8.893172</td>\n",
              "      <td>1.513848</td>\n",
              "      <td>18328.704809</td>\n",
              "    </tr>\n",
              "    <tr>\n",
              "      <th>min</th>\n",
              "      <td>2.600000</td>\n",
              "      <td>0.109000</td>\n",
              "      <td>1.810000</td>\n",
              "      <td>0.065900</td>\n",
              "      <td>609.000000</td>\n",
              "      <td>-4.210000</td>\n",
              "      <td>32.100000</td>\n",
              "      <td>1.150000</td>\n",
              "      <td>231.000000</td>\n",
              "    </tr>\n",
              "    <tr>\n",
              "      <th>25%</th>\n",
              "      <td>8.250000</td>\n",
              "      <td>23.800000</td>\n",
              "      <td>4.920000</td>\n",
              "      <td>30.200000</td>\n",
              "      <td>3355.000000</td>\n",
              "      <td>1.810000</td>\n",
              "      <td>65.300000</td>\n",
              "      <td>1.795000</td>\n",
              "      <td>1330.000000</td>\n",
              "    </tr>\n",
              "    <tr>\n",
              "      <th>50%</th>\n",
              "      <td>19.300000</td>\n",
              "      <td>35.000000</td>\n",
              "      <td>6.320000</td>\n",
              "      <td>43.300000</td>\n",
              "      <td>9960.000000</td>\n",
              "      <td>5.390000</td>\n",
              "      <td>73.100000</td>\n",
              "      <td>2.410000</td>\n",
              "      <td>4660.000000</td>\n",
              "    </tr>\n",
              "    <tr>\n",
              "      <th>75%</th>\n",
              "      <td>62.100000</td>\n",
              "      <td>51.350000</td>\n",
              "      <td>8.600000</td>\n",
              "      <td>58.750000</td>\n",
              "      <td>22800.000000</td>\n",
              "      <td>10.750000</td>\n",
              "      <td>76.800000</td>\n",
              "      <td>3.880000</td>\n",
              "      <td>14050.000000</td>\n",
              "    </tr>\n",
              "    <tr>\n",
              "      <th>max</th>\n",
              "      <td>208.000000</td>\n",
              "      <td>200.000000</td>\n",
              "      <td>17.900000</td>\n",
              "      <td>174.000000</td>\n",
              "      <td>125000.000000</td>\n",
              "      <td>104.000000</td>\n",
              "      <td>82.800000</td>\n",
              "      <td>7.490000</td>\n",
              "      <td>105000.000000</td>\n",
              "    </tr>\n",
              "  </tbody>\n",
              "</table>\n",
              "</div>\n",
              "      <button class=\"colab-df-convert\" onclick=\"convertToInteractive('df-88ece78f-398d-4fbd-bce3-8698c1ead7b9')\"\n",
              "              title=\"Convert this dataframe to an interactive table.\"\n",
              "              style=\"display:none;\">\n",
              "        \n",
              "  <svg xmlns=\"http://www.w3.org/2000/svg\" height=\"24px\"viewBox=\"0 0 24 24\"\n",
              "       width=\"24px\">\n",
              "    <path d=\"M0 0h24v24H0V0z\" fill=\"none\"/>\n",
              "    <path d=\"M18.56 5.44l.94 2.06.94-2.06 2.06-.94-2.06-.94-.94-2.06-.94 2.06-2.06.94zm-11 1L8.5 8.5l.94-2.06 2.06-.94-2.06-.94L8.5 2.5l-.94 2.06-2.06.94zm10 10l.94 2.06.94-2.06 2.06-.94-2.06-.94-.94-2.06-.94 2.06-2.06.94z\"/><path d=\"M17.41 7.96l-1.37-1.37c-.4-.4-.92-.59-1.43-.59-.52 0-1.04.2-1.43.59L10.3 9.45l-7.72 7.72c-.78.78-.78 2.05 0 2.83L4 21.41c.39.39.9.59 1.41.59.51 0 1.02-.2 1.41-.59l7.78-7.78 2.81-2.81c.8-.78.8-2.07 0-2.86zM5.41 20L4 18.59l7.72-7.72 1.47 1.35L5.41 20z\"/>\n",
              "  </svg>\n",
              "      </button>\n",
              "      \n",
              "  <style>\n",
              "    .colab-df-container {\n",
              "      display:flex;\n",
              "      flex-wrap:wrap;\n",
              "      gap: 12px;\n",
              "    }\n",
              "\n",
              "    .colab-df-convert {\n",
              "      background-color: #E8F0FE;\n",
              "      border: none;\n",
              "      border-radius: 50%;\n",
              "      cursor: pointer;\n",
              "      display: none;\n",
              "      fill: #1967D2;\n",
              "      height: 32px;\n",
              "      padding: 0 0 0 0;\n",
              "      width: 32px;\n",
              "    }\n",
              "\n",
              "    .colab-df-convert:hover {\n",
              "      background-color: #E2EBFA;\n",
              "      box-shadow: 0px 1px 2px rgba(60, 64, 67, 0.3), 0px 1px 3px 1px rgba(60, 64, 67, 0.15);\n",
              "      fill: #174EA6;\n",
              "    }\n",
              "\n",
              "    [theme=dark] .colab-df-convert {\n",
              "      background-color: #3B4455;\n",
              "      fill: #D2E3FC;\n",
              "    }\n",
              "\n",
              "    [theme=dark] .colab-df-convert:hover {\n",
              "      background-color: #434B5C;\n",
              "      box-shadow: 0px 1px 3px 1px rgba(0, 0, 0, 0.15);\n",
              "      filter: drop-shadow(0px 1px 2px rgba(0, 0, 0, 0.3));\n",
              "      fill: #FFFFFF;\n",
              "    }\n",
              "  </style>\n",
              "\n",
              "      <script>\n",
              "        const buttonEl =\n",
              "          document.querySelector('#df-88ece78f-398d-4fbd-bce3-8698c1ead7b9 button.colab-df-convert');\n",
              "        buttonEl.style.display =\n",
              "          google.colab.kernel.accessAllowed ? 'block' : 'none';\n",
              "\n",
              "        async function convertToInteractive(key) {\n",
              "          const element = document.querySelector('#df-88ece78f-398d-4fbd-bce3-8698c1ead7b9');\n",
              "          const dataTable =\n",
              "            await google.colab.kernel.invokeFunction('convertToInteractive',\n",
              "                                                     [key], {});\n",
              "          if (!dataTable) return;\n",
              "\n",
              "          const docLinkHtml = 'Like what you see? Visit the ' +\n",
              "            '<a target=\"_blank\" href=https://colab.research.google.com/notebooks/data_table.ipynb>data table notebook</a>'\n",
              "            + ' to learn more about interactive tables.';\n",
              "          element.innerHTML = '';\n",
              "          dataTable['output_type'] = 'display_data';\n",
              "          await google.colab.output.renderOutput(dataTable, element);\n",
              "          const docLink = document.createElement('div');\n",
              "          docLink.innerHTML = docLinkHtml;\n",
              "          element.appendChild(docLink);\n",
              "        }\n",
              "      </script>\n",
              "    </div>\n",
              "  </div>\n",
              "  "
            ]
          },
          "metadata": {},
          "execution_count": 40
        }
      ]
    },
    {
      "cell_type": "markdown",
      "source": [
        "# Data Exploration"
      ],
      "metadata": {
        "id": "7Zjq3ceysrr3"
      }
    },
    {
      "cell_type": "code",
      "source": [
        "# Compute correlation matrix using pearson method\n",
        "corrmat = df.corr()\n",
        "plt.figure(figsize=(10,10))\n",
        "g = sns.heatmap(df[corrmat.index].corr(), annot=True, cmap=\"RdYlGn\")"
      ],
      "metadata": {
        "colab": {
          "base_uri": "https://localhost:8080/",
          "height": 596
        },
        "id": "729ZUT2psqMd",
        "outputId": "1c73e72f-300b-4ebf-d021-59f76b554490"
      },
      "execution_count": null,
      "outputs": [
        {
          "output_type": "display_data",
          "data": {
            "text/plain": [
              "<Figure size 720x720 with 2 Axes>"
            ],
            "image/png": "[encoded data removed]"
          },
          "metadata": {
            "needs_background": "light"
          }
        }
      ]
    },
    {
      "cell_type": "code",
      "source": [
        "# Set data\n",
        "data = df.sort_values(ascending=False, by='child_mort')\n",
        "\n",
        "# Setup plot\n",
        "fig = plt.subplots(nrows=1, ncols=2, figsize=(20, 5)) \n",
        "  \n",
        "plt.subplot(1, 2, 1)\n",
        "ax = sns.barplot(x='country', y='child_mort', data=data.iloc[:5])\n",
        "plt.title(f'Country with highest child mortality')\n",
        "\n",
        "plt.subplot(1, 2, 2)\n",
        "ax = sns.barplot(x='country', y='child_mort', data=data.iloc[161:166])\n",
        "plt.title(f'Country with lowest child mortality')"
      ],
      "metadata": {
        "colab": {
          "base_uri": "https://localhost:8080/",
          "height": 367
        },
        "id": "8OqgKTmI5zWi",
        "outputId": "b81dceb7-4add-4991-f2c3-d8b7095f1793"
      },
      "execution_count": null,
      "outputs": [
        {
          "output_type": "execute_result",
          "data": {
            "text/plain": [
              "Text(0.5, 1.0, 'Country with lowest child mortality')"
            ]
          },
          "metadata": {},
          "execution_count": 42
        },
        {
          "output_type": "display_data",
          "data": {
            "text/plain": [
              "<Figure size 1440x360 with 2 Axes>"
            ],
            "image/png": "[encoded data removed]"
          },
          "metadata": {
            "needs_background": "light"
          }
        }
      ]
    },
    {
      "cell_type": "markdown",
      "source": [
        "**Conclusion: Child Mortality**\n",
        "\n",
        "*Death of children under 5 years of age per 1000 live births*\n",
        "\n",
        "Child mortality is an important measure of a country's overall health and development because it provides an indication of the health and well-being of children within the country."
      ],
      "metadata": {
        "id": "n8Vv4wJt7ptS"
      }
    },
    {
      "cell_type": "code",
      "source": [
        "# Set data\n",
        "data = df.sort_values(ascending=False, by='health')\n",
        "\n",
        "# Setup plot\n",
        "fig = plt.subplots(nrows=1, ncols=2, figsize=(20, 5)) \n",
        "  \n",
        "plt.subplot(1, 2, 1)\n",
        "ax = sns.barplot(x='country', y='health', data=data.iloc[:5])\n",
        "plt.title(f'Country with highest health spending')\n",
        "\n",
        "plt.subplot(1, 2, 2)\n",
        "ax = sns.barplot(x='country', y='health', data=data.iloc[161:166])\n",
        "plt.title(f'Country with lowest health spending')"
      ],
      "metadata": {
        "colab": {
          "base_uri": "https://localhost:8080/",
          "height": 367
        },
        "outputId": "92ce74b5-2d6f-4630-b9af-4bb67d7f729b",
        "id": "g1siK4KS84hD"
      },
      "execution_count": null,
      "outputs": [
        {
          "output_type": "execute_result",
          "data": {
            "text/plain": [
              "Text(0.5, 1.0, 'Country with lowest health spending')"
            ]
          },
          "metadata": {},
          "execution_count": 43
        },
        {
          "output_type": "display_data",
          "data": {
            "text/plain": [
              "<Figure size 1440x360 with 2 Axes>"
            ],
            "image/png": "[encoded data removed]"
          },
          "metadata": {
            "needs_background": "light"
          }
        }
      ]
    },
    {
      "cell_type": "markdown",
      "source": [
        "**Conclusion: Health Spending**\n",
        "\n",
        "*Total health spending per capita. Given as %age of GDP per capita*\n",
        "\n",
        "Health spending is important for a country because it is a crucial investment in the health and well-being of the country's population. When a country spends money on healthcare, it is able to provide its citizens with access to necessary medical services and treatments, which can help to prevent and treat diseases and health conditions. This can help to improve the overall health of the population, which can in turn lead to increased productivity and economic growth."
      ],
      "metadata": {
        "id": "0Ve4Yy9y84hD"
      }
    },
    {
      "cell_type": "code",
      "source": [
        "# Set data\n",
        "data = df.sort_values(ascending=False, by='life_expec')\n",
        "\n",
        "# Setup plot\n",
        "fig = plt.subplots(nrows=1, ncols=2, figsize=(20, 5)) \n",
        "  \n",
        "plt.subplot(1, 2, 1)\n",
        "ax = sns.barplot(x='country', y='life_expec', data=data.iloc[:5])\n",
        "plt.title(f'Country with highest life expectation')\n",
        "\n",
        "plt.subplot(1, 2, 2)\n",
        "ax = sns.barplot(x='country', y='life_expec', data=data.iloc[161:166])\n",
        "plt.title(f'Country with lowest life expectation')"
      ],
      "metadata": {
        "colab": {
          "base_uri": "https://localhost:8080/",
          "height": 367
        },
        "outputId": "cc1e089d-b093-4864-9dc9-08726a6b8f70",
        "id": "jhXhs00H9IAo"
      },
      "execution_count": null,
      "outputs": [
        {
          "output_type": "execute_result",
          "data": {
            "text/plain": [
              "Text(0.5, 1.0, 'Country with lowest life expectation')"
            ]
          },
          "metadata": {},
          "execution_count": 44
        },
        {
          "output_type": "display_data",
          "data": {
            "text/plain": [
              "<Figure size 1440x360 with 2 Axes>"
            ],
            "image/png": "[encoded data removed]"
          },
          "metadata": {
            "needs_background": "light"
          }
        }
      ]
    },
    {
      "cell_type": "markdown",
      "source": [
        "**Conclusion: Life expectation**\n",
        "\n",
        "*The average number of years a new born child would live if the current mortality patterns are to remain the same*\n",
        "\n",
        "Life expectancy is an important measure of a country's overall health and development because it provides an indication of the overall well-being and quality of life for the people living in the country."
      ],
      "metadata": {
        "id": "1gGI2QNf9IAo"
      }
    },
    {
      "cell_type": "code",
      "source": [
        "# Set data\n",
        "data = df.sort_values(ascending=False, by='total_fer')\n",
        "\n",
        "# Setup plot\n",
        "fig = plt.subplots(nrows=1, ncols=2, figsize=(20, 5)) \n",
        "  \n",
        "plt.subplot(1, 2, 1)\n",
        "ax = sns.barplot(x='country', y='total_fer', data=data.iloc[:5])\n",
        "plt.title(f'Country with highest total fertility')\n",
        "\n",
        "plt.subplot(1, 2, 2)\n",
        "ax = sns.barplot(x='country', y='total_fer', data=data.iloc[161:166])\n",
        "plt.title(f'Country with lowest total fertility')"
      ],
      "metadata": {
        "colab": {
          "base_uri": "https://localhost:8080/",
          "height": 367
        },
        "outputId": "1e02be81-5690-4959-e9d5-1579c8607bc3",
        "id": "XrYMxSdw9cWC"
      },
      "execution_count": null,
      "outputs": [
        {
          "output_type": "execute_result",
          "data": {
            "text/plain": [
              "Text(0.5, 1.0, 'Country with lowest total fertility')"
            ]
          },
          "metadata": {},
          "execution_count": 45
        },
        {
          "output_type": "display_data",
          "data": {
            "text/plain": [
              "<Figure size 1440x360 with 2 Axes>"
            ],
            "image/png": "[encoded data removed]"
          },
          "metadata": {
            "needs_background": "light"
          }
        }
      ]
    },
    {
      "cell_type": "markdown",
      "source": [
        "**Conclusion: Total Fertility**\n",
        "\n",
        "*The number of children that would be born to each woman if the current age-fertility rates remain the same.*\n",
        "\n",
        "Total fertility is an important measure of a country's population growth and development because it provides an indication of the average number of children that are being born to women within the country. A high total fertility rate is generally considered to be an indication of a growing population, while a low total fertility rate can be an indication of a declining population."
      ],
      "metadata": {
        "id": "tb4fZLW99cWC"
      }
    },
    {
      "cell_type": "code",
      "source": [
        "# Set data\n",
        "data = df.sort_values(ascending=False, by='exports')\n",
        "\n",
        "# Setup plot\n",
        "fig = plt.subplots(nrows=1, ncols=2, figsize=(20, 5)) \n",
        "  \n",
        "plt.subplot(1, 2, 1)\n",
        "ax = sns.barplot(x='country', y='exports', data=data.iloc[:5])\n",
        "plt.title(f'Country with highest exports')\n",
        "\n",
        "plt.subplot(1, 2, 2)\n",
        "ax = sns.barplot(x='country', y='exports', data=data.iloc[161:166])\n",
        "plt.title(f'Country with lowest exports')"
      ],
      "metadata": {
        "colab": {
          "base_uri": "https://localhost:8080/",
          "height": 367
        },
        "id": "_l12HsxO7tzW",
        "outputId": "39ca7022-3287-408a-eec5-0f422bc12ea0"
      },
      "execution_count": null,
      "outputs": [
        {
          "output_type": "execute_result",
          "data": {
            "text/plain": [
              "Text(0.5, 1.0, 'Country with lowest exports')"
            ]
          },
          "metadata": {},
          "execution_count": 46
        },
        {
          "output_type": "display_data",
          "data": {
            "text/plain": [
              "<Figure size 1440x360 with 2 Axes>"
            ],
            "image/png": "[encoded data removed]"
          },
          "metadata": {
            "needs_background": "light"
          }
        }
      ]
    },
    {
      "cell_type": "markdown",
      "source": [
        "**Conclusion: Exports**\n",
        "\n",
        "*Exports of goods and services per capita. Given as %age of the GDP per capita*\n",
        "\n",
        "Exports are important for a country because they can help to boost the country's economy by providing a source of income and foreign currency. When a country exports goods and services, it is able to sell these goods and services to other countries in exchange for money. This money can then be used to support the country's domestic economy by providing a source of income and capital that can be invested in various industries."
      ],
      "metadata": {
        "id": "q7pq8R9X7y2F"
      }
    },
    {
      "cell_type": "code",
      "source": [
        "# Set data\n",
        "data = df.sort_values(ascending=False, by='imports')\n",
        "\n",
        "# Setup plot\n",
        "fig = plt.subplots(nrows=1, ncols=2, figsize=(20, 5)) \n",
        "  \n",
        "plt.subplot(1, 2, 1)\n",
        "ax = sns.barplot(x='country', y='imports', data=data.iloc[:5])\n",
        "plt.title(f'Country with highest imports')\n",
        "\n",
        "plt.subplot(1, 2, 2)\n",
        "ax = sns.barplot(x='country', y='imports', data=data.iloc[161:166])\n",
        "plt.title(f'Country with lowest imports')"
      ],
      "metadata": {
        "colab": {
          "base_uri": "https://localhost:8080/",
          "height": 367
        },
        "outputId": "149849a6-b728-4f1b-d0b2-3fa8cfc2a419",
        "id": "daOSUrLm7-Gm"
      },
      "execution_count": null,
      "outputs": [
        {
          "output_type": "execute_result",
          "data": {
            "text/plain": [
              "Text(0.5, 1.0, 'Country with lowest imports')"
            ]
          },
          "metadata": {},
          "execution_count": 47
        },
        {
          "output_type": "display_data",
          "data": {
            "text/plain": [
              "<Figure size 1440x360 with 2 Axes>"
            ],
            "image/png": "[encoded data removed]"
          },
          "metadata": {
            "needs_background": "light"
          }
        }
      ]
    },
    {
      "cell_type": "markdown",
      "source": [
        "**Conclusion: Imports**\n",
        "\n",
        "*Imports of goods and services per capita. Given as %age of the GDP per capita*\n",
        "\n",
        "Imports are important for a country because they can help to increase the variety and availability of goods and services within the domestic market. By importing goods and services from other countries, a country is able to offer its consumers a wider range of products to choose from, which can help to improve their standard of living."
      ],
      "metadata": {
        "id": "yF1kWnP47-Gn"
      }
    },
    {
      "cell_type": "code",
      "source": [
        "# Set data\n",
        "data = df.sort_values(ascending=False, by='income')\n",
        "\n",
        "# Setup plot\n",
        "fig = plt.subplots(nrows=1, ncols=2, figsize=(20, 5)) \n",
        "  \n",
        "plt.subplot(1, 2, 1)\n",
        "ax = sns.barplot(x='country', y='income', data=data.iloc[:5])\n",
        "plt.title(f'Country with highest income')\n",
        "\n",
        "plt.subplot(1, 2, 2)\n",
        "ax = sns.barplot(x='country', y='income', data=data.iloc[161:166])\n",
        "plt.title(f'Country with lowest income')"
      ],
      "metadata": {
        "colab": {
          "base_uri": "https://localhost:8080/",
          "height": 367
        },
        "outputId": "8b0402c6-68e7-4cb4-b4b0-b196a9b9e7bd",
        "id": "irP1rpk78Mxu"
      },
      "execution_count": null,
      "outputs": [
        {
          "output_type": "execute_result",
          "data": {
            "text/plain": [
              "Text(0.5, 1.0, 'Country with lowest income')"
            ]
          },
          "metadata": {},
          "execution_count": 48
        },
        {
          "output_type": "display_data",
          "data": {
            "text/plain": [
              "<Figure size 1440x360 with 2 Axes>"
            ],
            "image/png": "[encoded data removed]"
          },
          "metadata": {
            "needs_background": "light"
          }
        }
      ]
    },
    {
      "cell_type": "markdown",
      "source": [
        "**Conclusion: Income**\n",
        "\n",
        "*Net income per person*\n",
        "\n",
        "Net income per person is an important measure of a country's economic health because it provides an indication of the average standard of living within the country. Net income per person is calculated by dividing the total amount of income earned by a country's population by the total population of the country. A higher net income per person indicates that the average person in the country is earning more money, which can be an indication of a strong economy and a high standard of living."
      ],
      "metadata": {
        "id": "wpGIb1Mj8Mxv"
      }
    },
    {
      "cell_type": "code",
      "source": [
        "# Set data\n",
        "data = df.sort_values(ascending=False, by='inflation')\n",
        "\n",
        "# Setup plot\n",
        "fig = plt.subplots(nrows=1, ncols=2, figsize=(20, 5)) \n",
        "  \n",
        "plt.subplot(1, 2, 1)\n",
        "ax = sns.barplot(x='country', y='inflation', data=data.iloc[:5])\n",
        "plt.title(f'Country with highest inflation')\n",
        "\n",
        "plt.subplot(1, 2, 2)\n",
        "ax = sns.barplot(x='country', y='inflation', data=data.iloc[161:166])\n",
        "plt.title(f'Country with lowest inflation')"
      ],
      "metadata": {
        "colab": {
          "base_uri": "https://localhost:8080/",
          "height": 367
        },
        "outputId": "21ddf92e-4a77-4c60-b270-f47cf7e498f2",
        "id": "5DIb_xYf8Zaw"
      },
      "execution_count": null,
      "outputs": [
        {
          "output_type": "execute_result",
          "data": {
            "text/plain": [
              "Text(0.5, 1.0, 'Country with lowest inflation')"
            ]
          },
          "metadata": {},
          "execution_count": 49
        },
        {
          "output_type": "display_data",
          "data": {
            "text/plain": [
              "<Figure size 1440x360 with 2 Axes>"
            ],
            "image/png": "[encoded data removed]"
          },
          "metadata": {
            "needs_background": "light"
          }
        }
      ]
    },
    {
      "cell_type": "markdown",
      "source": [
        "**Conclusion: Inflation**\n",
        "\n",
        "*The measurement of the annual growth rate of the Total GDP*\n",
        "\n",
        "Inflation is important for a country because it can have a significant impact on the economy and the standard of living for the people living in the country. Inflation is a measure of the rate at which the general level of prices for goods and services is rising, and it is typically measured as an annual percentage increase. A high rate of inflation can be a problem for a country because it can erode the purchasing power of money, which means that people will need to spend more money to buy the same goods and services. This can lead to an overall decrease in the standard of living for people living in the country."
      ],
      "metadata": {
        "id": "6Q7h5tdG8Zax"
      }
    },
    {
      "cell_type": "code",
      "source": [
        "# Set data\n",
        "data = df.sort_values(ascending=False, by='gdpp')\n",
        "\n",
        "# Setup plot\n",
        "fig = plt.subplots(nrows=1, ncols=2, figsize=(20, 5)) \n",
        "  \n",
        "plt.subplot(1, 2, 1)\n",
        "ax = sns.barplot(x='country', y='gdpp', data=data.iloc[:5])\n",
        "plt.title(f'Country with highest gdpp')\n",
        "\n",
        "plt.subplot(1, 2, 2)\n",
        "ax = sns.barplot(x='country', y='gdpp', data=data.iloc[161:166])\n",
        "plt.title(f'Country with lowest gdpp')"
      ],
      "metadata": {
        "colab": {
          "base_uri": "https://localhost:8080/",
          "height": 367
        },
        "outputId": "ef87920d-c2a4-46a4-f2df-f7d9b3ce823c",
        "id": "uTfJlgnt8itp"
      },
      "execution_count": null,
      "outputs": [
        {
          "output_type": "execute_result",
          "data": {
            "text/plain": [
              "Text(0.5, 1.0, 'Country with lowest gdpp')"
            ]
          },
          "metadata": {},
          "execution_count": 50
        },
        {
          "output_type": "display_data",
          "data": {
            "text/plain": [
              "<Figure size 1440x360 with 2 Axes>"
            ],
            "image/png": "[encoded data removed]"
          },
          "metadata": {
            "needs_background": "light"
          }
        }
      ]
    },
    {
      "cell_type": "markdown",
      "source": [
        "**Conclusion: GDPP**\n",
        "\n",
        "*The GDP per capita. Calculated as the Total GDP divided by the total population.*\n",
        "\n",
        "GDP is an important measure of a country's economic health because it provides a comprehensive view of the value of all goods and services produced within the country over a given period of time."
      ],
      "metadata": {
        "id": "gKo10XZ38itq"
      }
    },
    {
      "cell_type": "markdown",
      "source": [
        "# Data Feature Combination\n",
        "Combine related columns to one generic column\n",
        "- Health (child_mort, health, life_expect, total_fer)\n",
        "- Trade (exports, imports)\n",
        "- Economy (income, inflation, gdpp)"
      ],
      "metadata": {
        "id": "JbDMjFHo1Qu-"
      }
    },
    {
      "cell_type": "code",
      "source": [
        "# Select the related columns\n",
        "health = ['child_mort', 'health', 'life_expec', 'total_fer']\n",
        "trade = ['exports', 'imports']\n",
        "economy = ['income', 'inflation', 'gdpp']"
      ],
      "metadata": {
        "id": "1ntPKRwW1OG3"
      },
      "execution_count": null,
      "outputs": []
    },
    {
      "cell_type": "code",
      "source": [
        "data = pd.DataFrame()\n",
        "countries = df['country'].to_numpy()\n",
        "\n",
        "health_data = 0\n",
        "trade_data = 0\n",
        "economy_data = 0\n",
        "\n",
        "for column in health:\n",
        "  s = df[column] / df[column].mean()\n",
        "  health_data += s\n",
        "\n",
        "for column in trade:\n",
        "  s = df[column] / df[column].mean()\n",
        "  trade_data += s\n",
        "\n",
        "for column in economy:\n",
        "  s = df[column] / df[column].mean()\n",
        "  economy_data += s\n",
        "\n",
        "data['health'] = health_data\n",
        "data['trade'] = trade_data\n",
        "data['economy'] = economy_data\n",
        "\n",
        "data.head()"
      ],
      "metadata": {
        "colab": {
          "base_uri": "https://localhost:8080/",
          "height": 204
        },
        "id": "JDmTq1S71yIu",
        "outputId": "8930eb14-4a49-4e47-b963-45344320efb8"
      },
      "execution_count": null,
      "outputs": [
        {
          "output_type": "execute_result",
          "data": {
            "text/plain": [
              "     health     trade   economy\n",
              "0  6.239852  1.200812  1.349645\n",
              "1  3.035901  1.717580  1.471658\n",
              "2  3.389763  1.603752  3.165367\n",
              "3  6.469020  2.430387  3.494919\n",
              "4  2.964898  2.362940  2.240150"
            ],
            "text/html": [
              "\n",
              "  <div id=\"df-ccd50ce4-47af-43dd-be18-fd5e68185340\">\n",
              "    <div class=\"colab-df-container\">\n",
              "      <div>\n",
              "<style scoped>\n",
              "    .dataframe tbody tr th:only-of-type {\n",
              "        vertical-align: middle;\n",
              "    }\n",
              "\n",
              "    .dataframe tbody tr th {\n",
              "        vertical-align: top;\n",
              "    }\n",
              "\n",
              "    .dataframe thead th {\n",
              "        text-align: right;\n",
              "    }\n",
              "</style>\n",
              "<table border=\"1\" class=\"dataframe\">\n",
              "  <thead>\n",
              "    <tr style=\"text-align: right;\">\n",
              "      <th></th>\n",
              "      <th>health</th>\n",
              "      <th>trade</th>\n",
              "      <th>economy</th>\n",
              "    </tr>\n",
              "  </thead>\n",
              "  <tbody>\n",
              "    <tr>\n",
              "      <th>0</th>\n",
              "      <td>6.239852</td>\n",
              "      <td>1.200812</td>\n",
              "      <td>1.349645</td>\n",
              "    </tr>\n",
              "    <tr>\n",
              "      <th>1</th>\n",
              "      <td>3.035901</td>\n",
              "      <td>1.717580</td>\n",
              "      <td>1.471658</td>\n",
              "    </tr>\n",
              "    <tr>\n",
              "      <th>2</th>\n",
              "      <td>3.389763</td>\n",
              "      <td>1.603752</td>\n",
              "      <td>3.165367</td>\n",
              "    </tr>\n",
              "    <tr>\n",
              "      <th>3</th>\n",
              "      <td>6.469020</td>\n",
              "      <td>2.430387</td>\n",
              "      <td>3.494919</td>\n",
              "    </tr>\n",
              "    <tr>\n",
              "      <th>4</th>\n",
              "      <td>2.964898</td>\n",
              "      <td>2.362940</td>\n",
              "      <td>2.240150</td>\n",
              "    </tr>\n",
              "  </tbody>\n",
              "</table>\n",
              "</div>\n",
              "      <button class=\"colab-df-convert\" onclick=\"convertToInteractive('df-ccd50ce4-47af-43dd-be18-fd5e68185340')\"\n",
              "              title=\"Convert this dataframe to an interactive table.\"\n",
              "              style=\"display:none;\">\n",
              "        \n",
              "  <svg xmlns=\"http://www.w3.org/2000/svg\" height=\"24px\"viewBox=\"0 0 24 24\"\n",
              "       width=\"24px\">\n",
              "    <path d=\"M0 0h24v24H0V0z\" fill=\"none\"/>\n",
              "    <path d=\"M18.56 5.44l.94 2.06.94-2.06 2.06-.94-2.06-.94-.94-2.06-.94 2.06-2.06.94zm-11 1L8.5 8.5l.94-2.06 2.06-.94-2.06-.94L8.5 2.5l-.94 2.06-2.06.94zm10 10l.94 2.06.94-2.06 2.06-.94-2.06-.94-.94-2.06-.94 2.06-2.06.94z\"/><path d=\"M17.41 7.96l-1.37-1.37c-.4-.4-.92-.59-1.43-.59-.52 0-1.04.2-1.43.59L10.3 9.45l-7.72 7.72c-.78.78-.78 2.05 0 2.83L4 21.41c.39.39.9.59 1.41.59.51 0 1.02-.2 1.41-.59l7.78-7.78 2.81-2.81c.8-.78.8-2.07 0-2.86zM5.41 20L4 18.59l7.72-7.72 1.47 1.35L5.41 20z\"/>\n",
              "  </svg>\n",
              "      </button>\n",
              "      \n",
              "  <style>\n",
              "    .colab-df-container {\n",
              "      display:flex;\n",
              "      flex-wrap:wrap;\n",
              "      gap: 12px;\n",
              "    }\n",
              "\n",
              "    .colab-df-convert {\n",
              "      background-color: #E8F0FE;\n",
              "      border: none;\n",
              "      border-radius: 50%;\n",
              "      cursor: pointer;\n",
              "      display: none;\n",
              "      fill: #1967D2;\n",
              "      height: 32px;\n",
              "      padding: 0 0 0 0;\n",
              "      width: 32px;\n",
              "    }\n",
              "\n",
              "    .colab-df-convert:hover {\n",
              "      background-color: #E2EBFA;\n",
              "      box-shadow: 0px 1px 2px rgba(60, 64, 67, 0.3), 0px 1px 3px 1px rgba(60, 64, 67, 0.15);\n",
              "      fill: #174EA6;\n",
              "    }\n",
              "\n",
              "    [theme=dark] .colab-df-convert {\n",
              "      background-color: #3B4455;\n",
              "      fill: #D2E3FC;\n",
              "    }\n",
              "\n",
              "    [theme=dark] .colab-df-convert:hover {\n",
              "      background-color: #434B5C;\n",
              "      box-shadow: 0px 1px 3px 1px rgba(0, 0, 0, 0.15);\n",
              "      filter: drop-shadow(0px 1px 2px rgba(0, 0, 0, 0.3));\n",
              "      fill: #FFFFFF;\n",
              "    }\n",
              "  </style>\n",
              "\n",
              "      <script>\n",
              "        const buttonEl =\n",
              "          document.querySelector('#df-ccd50ce4-47af-43dd-be18-fd5e68185340 button.colab-df-convert');\n",
              "        buttonEl.style.display =\n",
              "          google.colab.kernel.accessAllowed ? 'block' : 'none';\n",
              "\n",
              "        async function convertToInteractive(key) {\n",
              "          const element = document.querySelector('#df-ccd50ce4-47af-43dd-be18-fd5e68185340');\n",
              "          const dataTable =\n",
              "            await google.colab.kernel.invokeFunction('convertToInteractive',\n",
              "                                                     [key], {});\n",
              "          if (!dataTable) return;\n",
              "\n",
              "          const docLinkHtml = 'Like what you see? Visit the ' +\n",
              "            '<a target=\"_blank\" href=https://colab.research.google.com/notebooks/data_table.ipynb>data table notebook</a>'\n",
              "            + ' to learn more about interactive tables.';\n",
              "          element.innerHTML = '';\n",
              "          dataTable['output_type'] = 'display_data';\n",
              "          await google.colab.output.renderOutput(dataTable, element);\n",
              "          const docLink = document.createElement('div');\n",
              "          docLink.innerHTML = docLinkHtml;\n",
              "          element.appendChild(docLink);\n",
              "        }\n",
              "      </script>\n",
              "    </div>\n",
              "  </div>\n",
              "  "
            ]
          },
          "metadata": {},
          "execution_count": 52
        }
      ]
    },
    {
      "cell_type": "markdown",
      "source": [
        "# Data Normalization\n",
        "The purpose of normalizing the data is to ensure that all of the features are on the same scale, which can improve the performance of machine learning algorithms that are applied to the data."
      ],
      "metadata": {
        "id": "ugyRd2C11v0D"
      }
    },
    {
      "cell_type": "code",
      "source": [
        "# Setup the Scaler\n",
        "scaler = MinMaxScaler()\n",
        "df = pd.DataFrame(scaler.fit_transform(data), columns=['health', 'trade', 'economy'])\n",
        "\n",
        "# Set the train data\n",
        "x_train = df.to_numpy()"
      ],
      "metadata": {
        "id": "LBfe8Jwi2HSZ"
      },
      "execution_count": null,
      "outputs": []
    },
    {
      "cell_type": "code",
      "source": [
        "# Insert the country data\n",
        "df.insert(loc=0, column='country', value=countries)\n",
        "\n",
        "df.head()"
      ],
      "metadata": {
        "colab": {
          "base_uri": "https://localhost:8080/",
          "height": 204
        },
        "id": "crvTJVqY3G49",
        "outputId": "5aa9e6f7-0a3d-488d-e51d-dac57ad666ae"
      },
      "execution_count": null,
      "outputs": [
        {
          "output_type": "execute_result",
          "data": {
            "text/plain": [
              "               country    health     trade   economy\n",
              "0          Afghanistan  0.625740  0.139614  0.079820\n",
              "1              Albania  0.127451  0.199901  0.088756\n",
              "2              Algeria  0.182485  0.186622  0.212808\n",
              "3               Angola  0.661381  0.283058  0.236946\n",
              "4  Antigua and Barbuda  0.116409  0.275189  0.145043"
            ],
            "text/html": [
              "\n",
              "  <div id=\"df-5db5b103-5225-483c-8cfc-53788b288ae0\">\n",
              "    <div class=\"colab-df-container\">\n",
              "      <div>\n",
              "<style scoped>\n",
              "    .dataframe tbody tr th:only-of-type {\n",
              "        vertical-align: middle;\n",
              "    }\n",
              "\n",
              "    .dataframe tbody tr th {\n",
              "        vertical-align: top;\n",
              "    }\n",
              "\n",
              "    .dataframe thead th {\n",
              "        text-align: right;\n",
              "    }\n",
              "</style>\n",
              "<table border=\"1\" class=\"dataframe\">\n",
              "  <thead>\n",
              "    <tr style=\"text-align: right;\">\n",
              "      <th></th>\n",
              "      <th>country</th>\n",
              "      <th>health</th>\n",
              "      <th>trade</th>\n",
              "      <th>economy</th>\n",
              "    </tr>\n",
              "  </thead>\n",
              "  <tbody>\n",
              "    <tr>\n",
              "      <th>0</th>\n",
              "      <td>Afghanistan</td>\n",
              "      <td>0.625740</td>\n",
              "      <td>0.139614</td>\n",
              "      <td>0.079820</td>\n",
              "    </tr>\n",
              "    <tr>\n",
              "      <th>1</th>\n",
              "      <td>Albania</td>\n",
              "      <td>0.127451</td>\n",
              "      <td>0.199901</td>\n",
              "      <td>0.088756</td>\n",
              "    </tr>\n",
              "    <tr>\n",
              "      <th>2</th>\n",
              "      <td>Algeria</td>\n",
              "      <td>0.182485</td>\n",
              "      <td>0.186622</td>\n",
              "      <td>0.212808</td>\n",
              "    </tr>\n",
              "    <tr>\n",
              "      <th>3</th>\n",
              "      <td>Angola</td>\n",
              "      <td>0.661381</td>\n",
              "      <td>0.283058</td>\n",
              "      <td>0.236946</td>\n",
              "    </tr>\n",
              "    <tr>\n",
              "      <th>4</th>\n",
              "      <td>Antigua and Barbuda</td>\n",
              "      <td>0.116409</td>\n",
              "      <td>0.275189</td>\n",
              "      <td>0.145043</td>\n",
              "    </tr>\n",
              "  </tbody>\n",
              "</table>\n",
              "</div>\n",
              "      <button class=\"colab-df-convert\" onclick=\"convertToInteractive('df-5db5b103-5225-483c-8cfc-53788b288ae0')\"\n",
              "              title=\"Convert this dataframe to an interactive table.\"\n",
              "              style=\"display:none;\">\n",
              "        \n",
              "  <svg xmlns=\"http://www.w3.org/2000/svg\" height=\"24px\"viewBox=\"0 0 24 24\"\n",
              "       width=\"24px\">\n",
              "    <path d=\"M0 0h24v24H0V0z\" fill=\"none\"/>\n",
              "    <path d=\"M18.56 5.44l.94 2.06.94-2.06 2.06-.94-2.06-.94-.94-2.06-.94 2.06-2.06.94zm-11 1L8.5 8.5l.94-2.06 2.06-.94-2.06-.94L8.5 2.5l-.94 2.06-2.06.94zm10 10l.94 2.06.94-2.06 2.06-.94-2.06-.94-.94-2.06-.94 2.06-2.06.94z\"/><path d=\"M17.41 7.96l-1.37-1.37c-.4-.4-.92-.59-1.43-.59-.52 0-1.04.2-1.43.59L10.3 9.45l-7.72 7.72c-.78.78-.78 2.05 0 2.83L4 21.41c.39.39.9.59 1.41.59.51 0 1.02-.2 1.41-.59l7.78-7.78 2.81-2.81c.8-.78.8-2.07 0-2.86zM5.41 20L4 18.59l7.72-7.72 1.47 1.35L5.41 20z\"/>\n",
              "  </svg>\n",
              "      </button>\n",
              "      \n",
              "  <style>\n",
              "    .colab-df-container {\n",
              "      display:flex;\n",
              "      flex-wrap:wrap;\n",
              "      gap: 12px;\n",
              "    }\n",
              "\n",
              "    .colab-df-convert {\n",
              "      background-color: #E8F0FE;\n",
              "      border: none;\n",
              "      border-radius: 50%;\n",
              "      cursor: pointer;\n",
              "      display: none;\n",
              "      fill: #1967D2;\n",
              "      height: 32px;\n",
              "      padding: 0 0 0 0;\n",
              "      width: 32px;\n",
              "    }\n",
              "\n",
              "    .colab-df-convert:hover {\n",
              "      background-color: #E2EBFA;\n",
              "      box-shadow: 0px 1px 2px rgba(60, 64, 67, 0.3), 0px 1px 3px 1px rgba(60, 64, 67, 0.15);\n",
              "      fill: #174EA6;\n",
              "    }\n",
              "\n",
              "    [theme=dark] .colab-df-convert {\n",
              "      background-color: #3B4455;\n",
              "      fill: #D2E3FC;\n",
              "    }\n",
              "\n",
              "    [theme=dark] .colab-df-convert:hover {\n",
              "      background-color: #434B5C;\n",
              "      box-shadow: 0px 1px 3px 1px rgba(0, 0, 0, 0.15);\n",
              "      filter: drop-shadow(0px 1px 2px rgba(0, 0, 0, 0.3));\n",
              "      fill: #FFFFFF;\n",
              "    }\n",
              "  </style>\n",
              "\n",
              "      <script>\n",
              "        const buttonEl =\n",
              "          document.querySelector('#df-5db5b103-5225-483c-8cfc-53788b288ae0 button.colab-df-convert');\n",
              "        buttonEl.style.display =\n",
              "          google.colab.kernel.accessAllowed ? 'block' : 'none';\n",
              "\n",
              "        async function convertToInteractive(key) {\n",
              "          const element = document.querySelector('#df-5db5b103-5225-483c-8cfc-53788b288ae0');\n",
              "          const dataTable =\n",
              "            await google.colab.kernel.invokeFunction('convertToInteractive',\n",
              "                                                     [key], {});\n",
              "          if (!dataTable) return;\n",
              "\n",
              "          const docLinkHtml = 'Like what you see? Visit the ' +\n",
              "            '<a target=\"_blank\" href=https://colab.research.google.com/notebooks/data_table.ipynb>data table notebook</a>'\n",
              "            + ' to learn more about interactive tables.';\n",
              "          element.innerHTML = '';\n",
              "          dataTable['output_type'] = 'display_data';\n",
              "          await google.colab.output.renderOutput(dataTable, element);\n",
              "          const docLink = document.createElement('div');\n",
              "          docLink.innerHTML = docLinkHtml;\n",
              "          element.appendChild(docLink);\n",
              "        }\n",
              "      </script>\n",
              "    </div>\n",
              "  </div>\n",
              "  "
            ]
          },
          "metadata": {},
          "execution_count": 54
        }
      ]
    },
    {
      "cell_type": "markdown",
      "source": [
        "# Data Visualization"
      ],
      "metadata": {
        "id": "S3mH-Rms4ss4"
      }
    },
    {
      "cell_type": "code",
      "source": [
        "fig = plt.figure()\n",
        "ax = fig.add_subplot(111, projection = '3d')\n",
        "\n",
        "x = df['health']\n",
        "y = df['trade']\n",
        "z = df['economy']\n",
        "\n",
        "ax.set_xlabel(\"health\")\n",
        "ax.set_ylabel(\"trade\")\n",
        "ax.set_zlabel(\"economy\")\n",
        "\n",
        "ax.scatter(x, y, z)\n",
        "\n",
        "plt.show()"
      ],
      "metadata": {
        "colab": {
          "base_uri": "https://localhost:8080/",
          "height": 54
        },
        "id": "GumitzH04sek",
        "outputId": "a0674a52-b02d-4a6b-9c9d-98268729ec3d"
      },
      "execution_count": null,
      "outputs": [
        {
          "output_type": "display_data",
          "data": {
            "text/plain": [
              "<Figure size 432x288 with 1 Axes>"
            ],
            "image/png": "[encoded data removed]"
          },
          "metadata": {
            "needs_background": "light"
          }
        }
      ]
    },
    {
      "cell_type": "markdown",
      "source": [
        "# K-Means Implementation\n"
      ],
      "metadata": {
        "id": "zA8H6QrTFqJh"
      }
    },
    {
      "cell_type": "code",
      "source": [
        "def euclidean_distance(point, data):\n",
        "  return np.sqrt(np.sum((point - data)**2, axis=1))\n",
        "\n",
        "class kMeans:\n",
        "  def __init__(self, n_clusters=8, max_iter=300):\n",
        "    self.n_clusters = n_clusters\n",
        "    self.max_iter = max_iter\n",
        "\n",
        "  def fit(self, train):\n",
        "    self.centroids = [random.choice(train)]\n",
        "    for _ in range(self.n_clusters-1):\n",
        "      dists = np.sum([euclidean_distance(centroid, train) for centroid in self.centroids], axis=0)\n",
        "      dists /= np.sum(dists)\n",
        "      new_centroid_idx, = np.random.choice(range(len(train)), size=1, p=dists)\n",
        "      self.centroids += [train[new_centroid_idx]]\n",
        "\n",
        "    iteration = 0\n",
        "    previous_centroids = None\n",
        "\n",
        "    while np.not_equal(self.centroids, previous_centroids).any() and iteration < self.max_iter:\n",
        "      points = [[] for _ in range(self.n_clusters)]\n",
        "      for x in train:\n",
        "        distance = euclidean_distance(x, self.centroids)\n",
        "        ctrd_id = np.argmin(distance)\n",
        "        points[ctrd_id].append(x)\n",
        "      \n",
        "      previous_centroids = self.centroids\n",
        "      self.centroids = [np.mean(cluster, axis=0) for cluster in points]\n",
        "\n",
        "      for i, centroid in enumerate(self.centroids):\n",
        "        if np.isnan(centroid).any():\n",
        "          self.centroids[i] = previous_centroids[i]\n",
        "      \n",
        "      iteration += 1\n",
        "    \n",
        "  def inertia(self, train, centers):\n",
        "    distances = euclidean_distance(train[:, np.newaxis, :], centers)\n",
        "    squared_distances = distances**2\n",
        "    total_distance = np.sum(squared_distances, axis=1)\n",
        "\n",
        "    return np.sum(total_distance)\n",
        "\n",
        "\n",
        "  def evaluate(self, point):\n",
        "    centroids = []\n",
        "    centroid_idxs = []\n",
        "\n",
        "    for x in point:\n",
        "        dists = euclidean_distance(x, self.centroids)\n",
        "        centroid_idx = np.argmin(dists)\n",
        "        centroids.append(self.centroids[centroid_idx])\n",
        "        centroid_idxs.append(centroid_idx)\n",
        "\n",
        "    return centroids, centroid_idxs"
      ],
      "metadata": {
        "id": "fof_tGIhF6Dm"
      },
      "execution_count": null,
      "outputs": []
    },
    {
      "cell_type": "code",
      "source": [
        "inertia = []\n",
        "\n",
        "for i in range(2, 12):\n",
        "  kmeans_test = kMeans(n_clusters=i)\n",
        "  kmeans_test.fit(x_train)\n",
        "  centers, _ = kmeans_test.evaluate(x_train)\n",
        "  inertia.append(kmeans_test.inertia(x_train, centers))"
      ],
      "metadata": {
        "colab": {
          "base_uri": "https://localhost:8080/"
        },
        "id": "KLIxtdGhTcZc",
        "outputId": "c90ea7ba-46d6-4f08-a468-c3ab04e56c24"
      },
      "execution_count": null,
      "outputs": [
        {
          "output_type": "stream",
          "name": "stderr",
          "text": [
            "/usr/local/lib/python3.8/dist-packages/numpy/core/fromnumeric.py:3440: RuntimeWarning: Mean of empty slice.\n",
            "  return _methods._mean(a, axis=axis, dtype=dtype,\n",
            "/usr/local/lib/python3.8/dist-packages/numpy/core/_methods.py:189: RuntimeWarning: invalid value encountered in double_scalars\n",
            "  ret = ret.dtype.type(ret / rcount)\n"
          ]
        }
      ]
    },
    {
      "cell_type": "code",
      "source": [
        "plt.plot(range(2, 12), inertia)\n",
        "plt.xlabel('Number of clusters')\n",
        "plt.ylabel('Inertia')\n",
        "plt.show()"
      ],
      "metadata": {
        "colab": {
          "base_uri": "https://localhost:8080/",
          "height": 54
        },
        "id": "mO6AXcCjUOt7",
        "outputId": "5c57a498-ea88-422b-d0d0-a34812ecec27"
      },
      "execution_count": null,
      "outputs": [
        {
          "output_type": "display_data",
          "data": {
            "text/plain": [
              "<Figure size 432x288 with 1 Axes>"
            ],
            "image/png": "[encoded data removed]"
          },
          "metadata": {
            "needs_background": "light"
          }
        }
      ]
    },
    {
      "cell_type": "markdown",
      "source": [
        "Inertia increases on each cluster because the inertia calculation is based on the distance between the data points and the centroid of their cluster. As the number of clusters increases, the distance between the data points and the centroid of their cluster will also increase, resulting in a higher inertia value. This is because each data point will be assigned to its own cluster, which will result in a higher distance between the data point and its cluster centroid."
      ],
      "metadata": {
        "id": "jF8lhmqzaEbm"
      }
    },
    {
      "cell_type": "code",
      "source": [
        "# Model Setup\n",
        "kmeans = kMeans(n_clusters=2, max_iter=500)"
      ],
      "metadata": {
        "id": "YFxFMB-2HmMu"
      },
      "execution_count": null,
      "outputs": []
    },
    {
      "cell_type": "code",
      "source": [
        "# Fit the model\n",
        "kmeans.fit(x_train)"
      ],
      "metadata": {
        "id": "aDnFLFjgHm14"
      },
      "execution_count": null,
      "outputs": []
    },
    {
      "cell_type": "code",
      "source": [
        "# Get the cluster centers and cluster indexes for each sample\n",
        "centers, cluster_idxs = kmeans.evaluate(x_train)"
      ],
      "metadata": {
        "id": "FIGPcekeLtRp"
      },
      "execution_count": null,
      "outputs": []
    },
    {
      "cell_type": "code",
      "source": [
        "# Create a scatter plot of the data\n",
        "fig = plt.figure()\n",
        "ax = fig.add_subplot(111, projection = '3d')\n",
        "\n",
        "# Set the labels for the axes\n",
        "ax.set_xlabel(\"health\")\n",
        "ax.set_ylabel(\"trade\")\n",
        "ax.set_zlabel(\"economy\")\n",
        "\n",
        "# Set the colors for each sample based on its cluster index\n",
        "colors = ['r', 'g']\n",
        "colors = [colors[i] for i in cluster_idxs]\n",
        "\n",
        "# Plot the data points\n",
        "ax.scatter(df['health'], df['trade'], df['economy'], c=colors)\n",
        "\n",
        "# Plot the cluster centers\n",
        "centers = np.array(centers)\n",
        "ax.scatter(centers[:, 0], centers[:, 1], centers[:, 2], marker=\"X\", color = 'y')\n",
        "\n",
        "# Show the plot\n",
        "plt.show()"
      ],
      "metadata": {
        "colab": {
          "base_uri": "https://localhost:8080/",
          "height": 54
        },
        "id": "jI8ZRZFdILX4",
        "outputId": "87020dbe-8984-429f-ea6c-5fb69eae7806"
      },
      "execution_count": null,
      "outputs": [
        {
          "output_type": "display_data",
          "data": {
            "text/plain": [
              "<Figure size 432x288 with 1 Axes>"
            ],
            "image/png": "[encoded data removed]"
          },
          "metadata": {
            "needs_background": "light"
          }
        }
      ]
    },
    {
      "cell_type": "code",
      "source": [
        "def calculate_score(health, trade, economy):\n",
        "    # Calculate the score using the normalized values\n",
        "    score = 0.5 * health + 0.3 * trade + 0.2 * economy\n",
        "    \n",
        "    # Return the calculated score\n",
        "    return score"
      ],
      "metadata": {
        "id": "7AZoXqzQMFYs"
      },
      "execution_count": null,
      "outputs": []
    },
    {
      "cell_type": "code",
      "source": [
        "# Compute urgency score\n",
        "scores = []\n",
        "\n",
        "for point in data.to_numpy():\n",
        "  score = calculate_score(point[0], point[1], point[2])\n",
        "\n",
        "  # Append the score to the scores list\n",
        "  scores.append(score)\n",
        "\n",
        "df['score'] = scores\n",
        "\n",
        "# Add cluster to dataframe\n",
        "df['cluster'] = cluster_idxs\n",
        "\n",
        "# Add country to dataframe\n",
        "df['country'] = countries\n",
        "\n",
        "df.head()"
      ],
      "metadata": {
        "colab": {
          "base_uri": "https://localhost:8080/",
          "height": 302
        },
        "id": "VDYlUyBbIYmL",
        "outputId": "baf6f5a8-a829-4bb5-e385-757eee6723b4"
      },
      "execution_count": null,
      "outputs": [
        {
          "output_type": "execute_result",
          "data": {
            "text/plain": [
              "               country    health     trade   economy     score  cluster\n",
              "0          Afghanistan  0.625740  0.139614  0.079820  3.750098        1\n",
              "1              Albania  0.127451  0.199901  0.088756  2.327556        0\n",
              "2              Algeria  0.182485  0.186622  0.212808  2.809080        0\n",
              "3               Angola  0.661381  0.283058  0.236946  4.662610        1\n",
              "4  Antigua and Barbuda  0.116409  0.275189  0.145043  2.639361        0"
            ],
            "text/html": [
              "\n",
              "  <div id=\"df-212877c9-3967-4b48-8d8b-c03edf4d7873\">\n",
              "    <div class=\"colab-df-container\">\n",
              "      <div>\n",
              "<style scoped>\n",
              "    .dataframe tbody tr th:only-of-type {\n",
              "        vertical-align: middle;\n",
              "    }\n",
              "\n",
              "    .dataframe tbody tr th {\n",
              "        vertical-align: top;\n",
              "    }\n",
              "\n",
              "    .dataframe thead th {\n",
              "        text-align: right;\n",
              "    }\n",
              "</style>\n",
              "<table border=\"1\" class=\"dataframe\">\n",
              "  <thead>\n",
              "    <tr style=\"text-align: right;\">\n",
              "      <th></th>\n",
              "      <th>country</th>\n",
              "      <th>health</th>\n",
              "      <th>trade</th>\n",
              "      <th>economy</th>\n",
              "      <th>score</th>\n",
              "      <th>cluster</th>\n",
              "    </tr>\n",
              "  </thead>\n",
              "  <tbody>\n",
              "    <tr>\n",
              "      <th>0</th>\n",
              "      <td>Afghanistan</td>\n",
              "      <td>0.625740</td>\n",
              "      <td>0.139614</td>\n",
              "      <td>0.079820</td>\n",
              "      <td>3.750098</td>\n",
              "      <td>1</td>\n",
              "    </tr>\n",
              "    <tr>\n",
              "      <th>1</th>\n",
              "      <td>Albania</td>\n",
              "      <td>0.127451</td>\n",
              "      <td>0.199901</td>\n",
              "      <td>0.088756</td>\n",
              "      <td>2.327556</td>\n",
              "      <td>0</td>\n",
              "    </tr>\n",
              "    <tr>\n",
              "      <th>2</th>\n",
              "      <td>Algeria</td>\n",
              "      <td>0.182485</td>\n",
              "      <td>0.186622</td>\n",
              "      <td>0.212808</td>\n",
              "      <td>2.809080</td>\n",
              "      <td>0</td>\n",
              "    </tr>\n",
              "    <tr>\n",
              "      <th>3</th>\n",
              "      <td>Angola</td>\n",
              "      <td>0.661381</td>\n",
              "      <td>0.283058</td>\n",
              "      <td>0.236946</td>\n",
              "      <td>4.662610</td>\n",
              "      <td>1</td>\n",
              "    </tr>\n",
              "    <tr>\n",
              "      <th>4</th>\n",
              "      <td>Antigua and Barbuda</td>\n",
              "      <td>0.116409</td>\n",
              "      <td>0.275189</td>\n",
              "      <td>0.145043</td>\n",
              "      <td>2.639361</td>\n",
              "      <td>0</td>\n",
              "    </tr>\n",
              "  </tbody>\n",
              "</table>\n",
              "</div>\n",
              "      <button class=\"colab-df-convert\" onclick=\"convertToInteractive('df-212877c9-3967-4b48-8d8b-c03edf4d7873')\"\n",
              "              title=\"Convert this dataframe to an interactive table.\"\n",
              "              style=\"display:none;\">\n",
              "        \n",
              "  <svg xmlns=\"http://www.w3.org/2000/svg\" height=\"24px\"viewBox=\"0 0 24 24\"\n",
              "       width=\"24px\">\n",
              "    <path d=\"M0 0h24v24H0V0z\" fill=\"none\"/>\n",
              "    <path d=\"M18.56 5.44l.94 2.06.94-2.06 2.06-.94-2.06-.94-.94-2.06-.94 2.06-2.06.94zm-11 1L8.5 8.5l.94-2.06 2.06-.94-2.06-.94L8.5 2.5l-.94 2.06-2.06.94zm10 10l.94 2.06.94-2.06 2.06-.94-2.06-.94-.94-2.06-.94 2.06-2.06.94z\"/><path d=\"M17.41 7.96l-1.37-1.37c-.4-.4-.92-.59-1.43-.59-.52 0-1.04.2-1.43.59L10.3 9.45l-7.72 7.72c-.78.78-.78 2.05 0 2.83L4 21.41c.39.39.9.59 1.41.59.51 0 1.02-.2 1.41-.59l7.78-7.78 2.81-2.81c.8-.78.8-2.07 0-2.86zM5.41 20L4 18.59l7.72-7.72 1.47 1.35L5.41 20z\"/>\n",
              "  </svg>\n",
              "      </button>\n",
              "      \n",
              "  <style>\n",
              "    .colab-df-container {\n",
              "      display:flex;\n",
              "      flex-wrap:wrap;\n",
              "      gap: 12px;\n",
              "    }\n",
              "\n",
              "    .colab-df-convert {\n",
              "      background-color: #E8F0FE;\n",
              "      border: none;\n",
              "      border-radius: 50%;\n",
              "      cursor: pointer;\n",
              "      display: none;\n",
              "      fill: #1967D2;\n",
              "      height: 32px;\n",
              "      padding: 0 0 0 0;\n",
              "      width: 32px;\n",
              "    }\n",
              "\n",
              "    .colab-df-convert:hover {\n",
              "      background-color: #E2EBFA;\n",
              "      box-shadow: 0px 1px 2px rgba(60, 64, 67, 0.3), 0px 1px 3px 1px rgba(60, 64, 67, 0.15);\n",
              "      fill: #174EA6;\n",
              "    }\n",
              "\n",
              "    [theme=dark] .colab-df-convert {\n",
              "      background-color: #3B4455;\n",
              "      fill: #D2E3FC;\n",
              "    }\n",
              "\n",
              "    [theme=dark] .colab-df-convert:hover {\n",
              "      background-color: #434B5C;\n",
              "      box-shadow: 0px 1px 3px 1px rgba(0, 0, 0, 0.15);\n",
              "      filter: drop-shadow(0px 1px 2px rgba(0, 0, 0, 0.3));\n",
              "      fill: #FFFFFF;\n",
              "    }\n",
              "  </style>\n",
              "\n",
              "      <script>\n",
              "        const buttonEl =\n",
              "          document.querySelector('#df-212877c9-3967-4b48-8d8b-c03edf4d7873 button.colab-df-convert');\n",
              "        buttonEl.style.display =\n",
              "          google.colab.kernel.accessAllowed ? 'block' : 'none';\n",
              "\n",
              "        async function convertToInteractive(key) {\n",
              "          const element = document.querySelector('#df-212877c9-3967-4b48-8d8b-c03edf4d7873');\n",
              "          const dataTable =\n",
              "            await google.colab.kernel.invokeFunction('convertToInteractive',\n",
              "                                                     [key], {});\n",
              "          if (!dataTable) return;\n",
              "\n",
              "          const docLinkHtml = 'Like what you see? Visit the ' +\n",
              "            '<a target=\"_blank\" href=https://colab.research.google.com/notebooks/data_table.ipynb>data table notebook</a>'\n",
              "            + ' to learn more about interactive tables.';\n",
              "          element.innerHTML = '';\n",
              "          dataTable['output_type'] = 'display_data';\n",
              "          await google.colab.output.renderOutput(dataTable, element);\n",
              "          const docLink = document.createElement('div');\n",
              "          docLink.innerHTML = docLinkHtml;\n",
              "          element.appendChild(docLink);\n",
              "        }\n",
              "      </script>\n",
              "    </div>\n",
              "  </div>\n",
              "  "
            ]
          },
          "metadata": {},
          "execution_count": 64
        }
      ]
    },
    {
      "cell_type": "code",
      "source": [
        "cluster_0 = df.loc[df['cluster'] == 0].sort_values(ascending=False, by='score')\n",
        "cluster_1 = df.loc[df['cluster'] == 1].sort_values(ascending=False, by='score')\n",
        "\n",
        "clusters = [cluster_0, cluster_1]"
      ],
      "metadata": {
        "id": "FoD8UUN6In9p"
      },
      "execution_count": null,
      "outputs": []
    },
    {
      "cell_type": "code",
      "source": [
        "for i in range(len(clusters)):\n",
        "  print(f\"Cluster {i}\")\n",
        "\n",
        "  for data in clusters[i].to_numpy():\n",
        "    print(f\"{data[0]} {data[4]}\")\n",
        "  \n",
        "  print()"
      ],
      "metadata": {
        "colab": {
          "base_uri": "https://localhost:8080/"
        },
        "id": "_rZWCjvxIpcc",
        "outputId": "e84daaa9-0089-4f82-d1a3-282fc06ff731"
      },
      "execution_count": null,
      "outputs": [
        {
          "output_type": "stream",
          "name": "stdout",
          "text": [
            "Cluster 0\n",
            "Luxembourg 6.427398870270694\n",
            "Singapore 5.239773872189688\n",
            "Qatar 4.493856140430781\n",
            "Malta 4.379032752499517\n",
            "Switzerland 4.357262296193335\n",
            "Norway 4.348252320474369\n",
            "Ireland 4.153249515905557\n",
            "Netherlands 4.068163970452207\n",
            "Belgium 3.9743457544123326\n",
            "Denmark 3.9087175777896537\n",
            "Congo, Rep. 3.8887363996814135\n",
            "United States 3.839461084084413\n",
            "Brunei 3.789003927168829\n",
            "United Arab Emirates 3.7472275645448088\n",
            "Kuwait 3.7033336181173633\n",
            "Austria 3.6079571464457025\n",
            "Sweden 3.586255270373999\n",
            "Iceland 3.5841205773206015\n",
            "Gabon 3.5100204934357997\n",
            "Yemen 3.5040156555417665\n",
            "Mongolia 3.498837408385222\n",
            "Iraq 3.498599134803092\n",
            "Canada 3.445225834064643\n",
            "Venezuela 3.4378774828391103\n",
            "Saudi Arabia 3.3965869857290354\n",
            "Germany 3.3909175476488205\n",
            "Oman 3.357397053013057\n",
            "Botswana 3.3166783010301466\n",
            "France 3.3081554806142908\n",
            "Finland 3.2876062301592004\n",
            "Namibia 3.2623244208618196\n",
            "Solomon Islands 3.2457160671521263\n",
            "Panama 3.229329773182213\n",
            "Bahrain 3.2047437867403588\n",
            "Australia 3.2032334303604553\n",
            "Jordan 3.2012562494798327\n",
            "New Zealand 3.156111354395228\n",
            "United Kingdom 3.13543800936157\n",
            "Slovak Republic 3.1309651142787884\n",
            "Slovenia 3.1038935763781037\n",
            "Libya 3.094561864963345\n",
            "Vietnam 3.077080444933669\n",
            "Kyrgyz Republic 3.0537115519985973\n",
            "Tajikistan 3.0527696218070903\n",
            "Turkmenistan 3.0399457483490018\n",
            "Israel 3.039368728080963\n",
            "Seychelles 2.9976531199406775\n",
            "South Africa 2.9810332957910872\n",
            "Malaysia 2.97920586753477\n",
            "Hungary 2.9645913999507583\n",
            "Cyprus 2.9485546504028\n",
            "Guyana 2.9430253635789696\n",
            "Moldova 2.936715378848758\n",
            "Azerbaijan 2.918954412793912\n",
            "Italy 2.918690099303201\n",
            "Kazakhstan 2.9107410518102483\n",
            "Czech Republic 2.9107324667872994\n",
            "Bhutan 2.8789184549889324\n",
            "Argentina 2.877281531480933\n",
            "Suriname 2.862272906192798\n",
            "Maldives 2.857863832673787\n",
            "Estonia 2.8538167010708\n",
            "Bolivia 2.8534647868425838\n",
            "Cambodia 2.8508607568386473\n",
            "Bahamas 2.8215782054481924\n",
            "Japan 2.8122980468781833\n",
            "Algeria 2.8090801867626696\n",
            "Portugal 2.797600965842729\n",
            "Spain 2.7766664020853087\n",
            "South Korea 2.7710807675955818\n",
            "Lithuania 2.768217349184922\n",
            "Paraguay 2.7568812719597298\n",
            "Greece 2.752126251844375\n",
            "Costa Rica 2.741518467802981\n",
            "Georgia 2.7352080974264017\n",
            "Guatemala 2.718132307873167\n",
            "Chile 2.7080037648170254\n",
            "Ecuador 2.6977623038459693\n",
            "Uzbekistan 2.6934184720459733\n",
            "Belarus 2.692877270504202\n",
            "Samoa 2.6776070937986702\n",
            "Fiji 2.668405553625449\n",
            "Nepal 2.649117725593871\n",
            "Barbados 2.649052066865422\n",
            "Eritrea 2.64162581735665\n",
            "Antigua and Barbuda 2.6393609409151515\n",
            "Vanuatu 2.6315362191897433\n",
            "India 2.616824825086382\n",
            "Ukraine 2.61442304913416\n",
            "Dominican Republic 2.607465488007153\n",
            "Tunisia 2.596524293166847\n",
            "Montenegro 2.577431327905204\n",
            "Belize 2.5734999103034824\n",
            "Serbia 2.558348104161263\n",
            "Mauritius 2.5321098365648793\n",
            "Turkey 2.530051390765403\n",
            "Uruguay 2.5089382314365096\n",
            "Iran 2.503979839031439\n",
            "Egypt 2.503043707962987\n",
            "Thailand 2.5000354275491867\n",
            "Lebanon 2.4682319490498363\n",
            "Brazil 2.462441913677681\n",
            "Poland 2.4588539300124563\n",
            "Bulgaria 2.4530359550027403\n",
            "Latvia 2.4519970701716183\n",
            "Jamaica 2.4501617604024757\n",
            "Tonga 2.441516120352029\n",
            "Bosnia and Herzegovina 2.436327497708084\n",
            "Morocco 2.43157117490145\n",
            "Croatia 2.4267289502840077\n",
            "Russia 2.40758096311098\n",
            "Indonesia 2.4027071771302717\n",
            "Philippines 2.401310695093155\n",
            "Cape Verde 2.3789780699147425\n",
            "El Salvador 2.36173895576045\n",
            "Macedonia, FYR 2.347354786772704\n",
            "St. Vincent and the Grenadines 2.3444296734284116\n",
            "Albania 2.327556234426175\n",
            "Peru 2.316271923036432\n",
            "Sri Lanka 2.306074669618878\n",
            "Bangladesh 2.2776248952033553\n",
            "Romania 2.263035558797669\n",
            "Grenada 2.250987791492902\n",
            "Colombia 2.2348372608041314\n",
            "Armenia 2.1344955648287725\n",
            "Myanmar 2.1088386410749105\n",
            "China 2.0718006363072106\n",
            "\n",
            "Cluster 1\n",
            "Nigeria 6.5545147160364445\n",
            "Equatorial Guinea 5.393967421693074\n",
            "Sierra Leone 5.1289245469519456\n",
            "Congo, Dem. Rep. 4.776650439981992\n",
            "Haiti 4.710105048877704\n",
            "Angola 4.66261005729998\n",
            "Chad 4.557636785705851\n",
            "Niger 4.2291471848940985\n",
            "Mauritania 4.2285441017579\n",
            "Mali 4.22383727550711\n",
            "Liberia 4.200286312639888\n",
            "Burundi 4.189003338968129\n",
            "Lesotho 4.09230871365667\n",
            "Guinea 4.0376608149259665\n",
            "Timor-Leste 3.999544605789072\n",
            "Cote d'Ivoire 3.9668629127736033\n",
            "Burkina Faso 3.945978201506996\n",
            "Guinea-Bissau 3.7984421526841596\n",
            "Central African Republic 3.7834949009969328\n",
            "Uganda 3.772199439049005\n",
            "Mozambique 3.7700077538530654\n",
            "Afghanistan 3.750098278567248\n",
            "Togo 3.6948941518655736\n",
            "Zambia 3.69049453457142\n",
            "Malawi 3.6625016849732024\n",
            "Sudan 3.5829471072817007\n",
            "Benin 3.565407982197526\n",
            "Ghana 3.5154006157267546\n",
            "Cameroon 3.4952050175173226\n",
            "Micronesia, Fed. Sts. 3.4851000927361713\n",
            "Gambia 3.484604144134097\n",
            "Kiribati 3.420087794723148\n",
            "Comoros 3.3347973610675554\n",
            "Tanzania 3.317071122044551\n",
            "Lao 3.219362861721913\n",
            "Rwanda 3.1949704836843953\n",
            "Senegal 3.127678136815601\n",
            "Pakistan 3.049181185545846\n",
            "Madagascar 3.006328068653949\n",
            "Kenya 2.8109297671481146\n",
            "\n"
          ]
        }
      ]
    }
  ]
}